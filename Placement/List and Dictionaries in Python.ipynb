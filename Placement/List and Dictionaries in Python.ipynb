{
 "cells": [
  {
   "cell_type": "markdown",
   "id": "filled-highway",
   "metadata": {},
   "source": [
    "# LISTS AND DICTIONARIES IN PYTHON"
   ]
  },
  {
   "cell_type": "markdown",
   "id": "standing-staff",
   "metadata": {},
   "source": [
    "## Lists"
   ]
  },
  {
   "cell_type": "markdown",
   "id": "valid-swiss",
   "metadata": {},
   "source": [
    "List is one of the built-in data types in python which is used to store a collection of items which is not neccessarily be of same data type."
   ]
  },
  {
   "cell_type": "code",
   "execution_count": 8,
   "id": "prostate-warehouse",
   "metadata": {},
   "outputs": [
    {
     "name": "stdout",
     "output_type": "stream",
     "text": [
      "[1, 3, 'hello', 1.414, 'z']\n"
     ]
    }
   ],
   "source": [
    "myList = [1, 3, 'hello', 1.414, 'z']\n",
    "print(myList)"
   ]
  },
  {
   "cell_type": "markdown",
   "id": "amazing-liechtenstein",
   "metadata": {},
   "source": [
    "### Creating a list"
   ]
  },
  {
   "cell_type": "markdown",
   "id": "handmade-substance",
   "metadata": {},
   "source": [
    "We can create a list in several ways\n",
    "* with a pair of square brackets which actually denotes the empty list and then appending elements one by one.\n",
    "* with a comma seperated items inside a pair of square brackets.\n",
    "* by using the type constructor. i.e., list()."
   ]
  },
  {
   "cell_type": "code",
   "execution_count": 9,
   "id": "lesbian-noise",
   "metadata": {},
   "outputs": [
    {
     "name": "stdout",
     "output_type": "stream",
     "text": [
      "['element1']\n"
     ]
    }
   ],
   "source": [
    "myList1 = [] # empty list\n",
    "myList1.append('element1')\n",
    "print(myList1)"
   ]
  },
  {
   "cell_type": "code",
   "execution_count": 3,
   "id": "circular-promotion",
   "metadata": {},
   "outputs": [
    {
     "name": "stdout",
     "output_type": "stream",
     "text": [
      "[1, 2, 3, 4, 5]\n"
     ]
    }
   ],
   "source": [
    "myList2 = [1, 2, 3, 4, 5]\n",
    "print(myList2)"
   ]
  },
  {
   "cell_type": "code",
   "execution_count": 10,
   "id": "inner-marina",
   "metadata": {},
   "outputs": [
    {
     "name": "stdout",
     "output_type": "stream",
     "text": [
      "myList3 - []\n",
      "myList4 - ['h', 'e', 'l', 'l', 'o']\n",
      "myList4 - ['a', 'b', 'c']\n"
     ]
    }
   ],
   "source": [
    "myList3 = list() # without any input parameter\n",
    "print(\"myList3 -\", myList3)\n",
    "myList4 = list('hello') # with a string as it's input parameter\n",
    "print(\"myList4 -\", myList4)\n",
    "myList4 = list(['a','b','c']) # with a list as it's input parameter\n",
    "print(\"myList4 -\", myList4)"
   ]
  },
  {
   "cell_type": "markdown",
   "id": "surgical-musician",
   "metadata": {},
   "source": [
    "### Indexing Lists"
   ]
  },
  {
   "cell_type": "markdown",
   "id": "ahead-minority",
   "metadata": {},
   "source": [
    "In the list if we want to access any data, then we need to depend on the index of the data. i.e., Each element in a list corresponds to its index number(simply an integer value) which usually starts with 0. "
   ]
  },
  {
   "cell_type": "markdown",
   "id": "promising-consent",
   "metadata": {},
   "source": [
    "For 'myList', the indexing will be:"
   ]
  },
  {
   "cell_type": "markdown",
   "id": "insured-charity",
   "metadata": {},
   "source": [
    "***List indices***\n",
    "\n",
    "| 1 | 3 | 'hello' | 1.414 | 'z' |\n",
    "|---|---|---------|-------|-----|\n",
    "| 0 | 1 |    2    |   3   |  4  |\n",
    "\n",
    "\n",
    "***Negative List indices***\n",
    "\n",
    "| 1 | 3 | 'hello' | 1.414 | 'z' |\n",
    "|---|---|---------|-------|-----|\n",
    "|-5 |-4 |   -3    |  -2   | -1  |"
   ]
  },
  {
   "cell_type": "markdown",
   "id": "boxed-accident",
   "metadata": {},
   "source": [
    "### Accessing elements"
   ]
  },
  {
   "cell_type": "markdown",
   "id": "sporting-worry",
   "metadata": {},
   "source": [
    " We use index number within a square bracket to access elements in a list.\n",
    " \n",
    " **NOTE**:\n",
    " 1. Indexing returns an item"
   ]
  },
  {
   "cell_type": "code",
   "execution_count": 11,
   "id": "geographic-construction",
   "metadata": {},
   "outputs": [
    {
     "name": "stdout",
     "output_type": "stream",
     "text": [
      "0th index element - 1\n",
      "1th index element - 3\n",
      "4th index element - z\n"
     ]
    }
   ],
   "source": [
    "myList = [1, 3, 'hello', 1.414, 'z']\n",
    "print(\"0th index element -\", myList[0])\n",
    "print(\"1th index element -\", myList[1])\n",
    "print(\"4th index element -\", myList[4])"
   ]
  },
  {
   "cell_type": "code",
   "execution_count": 12,
   "id": "configured-creation",
   "metadata": {},
   "outputs": [
    {
     "name": "stdout",
     "output_type": "stream",
     "text": [
      "last element - z\n",
      "3rd element from the right - hello\n"
     ]
    }
   ],
   "source": [
    "print(\"last element -\", myList[-1]) # negative index\n",
    "print(\"3rd element from the right -\", myList[-3]) # third item from right"
   ]
  },
  {
   "cell_type": "code",
   "execution_count": 13,
   "id": "blond-theme",
   "metadata": {},
   "outputs": [
    {
     "ename": "IndexError",
     "evalue": "list index out of range",
     "output_type": "error",
     "traceback": [
      "\u001b[0;31m---------------------------------------------------------------------------\u001b[0m",
      "\u001b[0;31mIndexError\u001b[0m                                Traceback (most recent call last)",
      "\u001b[0;32m<ipython-input-13-783cdd5c563d>\u001b[0m in \u001b[0;36m<module>\u001b[0;34m\u001b[0m\n\u001b[1;32m      1\u001b[0m \u001b[0;31m# trying to access an index which is out of range\u001b[0m\u001b[0;34m\u001b[0m\u001b[0;34m\u001b[0m\u001b[0;34m\u001b[0m\u001b[0m\n\u001b[0;32m----> 2\u001b[0;31m \u001b[0mmyList\u001b[0m\u001b[0;34m[\u001b[0m\u001b[0;36m6\u001b[0m\u001b[0;34m]\u001b[0m \u001b[0;31m# will throw an 'IndexError'\u001b[0m\u001b[0;34m\u001b[0m\u001b[0;34m\u001b[0m\u001b[0m\n\u001b[0m",
      "\u001b[0;31mIndexError\u001b[0m: list index out of range"
     ]
    }
   ],
   "source": [
    "# trying to access an index which is out of range\n",
    "myList[6] # will throw an 'IndexError'"
   ]
  },
  {
   "cell_type": "markdown",
   "id": "blond-slave",
   "metadata": {},
   "source": [
    "### List Slicing"
   ]
  },
  {
   "cell_type": "markdown",
   "id": "medical-house",
   "metadata": {},
   "source": [
    "We use python’s slicing operator when we want to access multiple elements from the list.\n",
    "\n",
    "The expression **[start_index : end_index : step]** returns a portion of the list from the start_index to the end_index (which is excluded) with a stride (which can be positive or even negative).\n",
    "\n",
    "**NOTE:** \n",
    "1. The start index is inclusive and the end index is exclusive.\n",
    "2. Slicing returns a new list.\n",
    "3. If the third parameter(i.e., step) is omitted, then python defaults it to stride of 1."
   ]
  },
  {
   "cell_type": "code",
   "execution_count": 15,
   "id": "express-shepherd",
   "metadata": {},
   "outputs": [
    {
     "name": "stdout",
     "output_type": "stream",
     "text": [
      "[3, 'hello', 1.414, 'z']\n"
     ]
    }
   ],
   "source": [
    "myList = [1, 3, 'hello', 1.414, 'z']\n",
    "print(myList[1:]) # start_index is 1\n",
    "# printing all of the other elements starts from the index 1; except index 0"
   ]
  },
  {
   "cell_type": "code",
   "execution_count": 16,
   "id": "adjusted-rouge",
   "metadata": {},
   "outputs": [
    {
     "name": "stdout",
     "output_type": "stream",
     "text": [
      "[1, 3, 'hello']\n"
     ]
    }
   ],
   "source": [
    "print(myList[ : 3]) # accessing first 3 elements"
   ]
  },
  {
   "cell_type": "code",
   "execution_count": 17,
   "id": "cooked-instrumentation",
   "metadata": {},
   "outputs": [
    {
     "name": "stdout",
     "output_type": "stream",
     "text": [
      "[1, 'hello']\n"
     ]
    }
   ],
   "source": [
    "print(myList[0: 3: 2]) # accessing elements from index 0 to 3 with stride of 2"
   ]
  },
  {
   "cell_type": "markdown",
   "id": "skilled-relaxation",
   "metadata": {},
   "source": [
    "### Lists are mutable"
   ]
  },
  {
   "cell_type": "markdown",
   "id": "dense-animal",
   "metadata": {},
   "source": [
    "List elements has the ability to be changed without recreating the list again. i.e., List elements can be updated/modified, a new element can be inserted to the list at any position, an existing element can be deleted/droped out from the list, etc.."
   ]
  },
  {
   "cell_type": "markdown",
   "id": "suffering-citizen",
   "metadata": {},
   "source": [
    "#### Modifying a list"
   ]
  },
  {
   "cell_type": "code",
   "execution_count": 18,
   "id": "voluntary-naples",
   "metadata": {},
   "outputs": [
    {
     "name": "stdout",
     "output_type": "stream",
     "text": [
      "[1, 'element_1', 'hello', 1.414, 'z']\n"
     ]
    }
   ],
   "source": [
    "myList = [1, 3, 'hello', 1.414, 'z']\n",
    "# modifing an item from index 1\n",
    "myList[1] = 'element_1'\n",
    "print(myList)"
   ]
  },
  {
   "cell_type": "code",
   "execution_count": 19,
   "id": "previous-deviation",
   "metadata": {},
   "outputs": [
    {
     "name": "stdout",
     "output_type": "stream",
     "text": [
      "['new1', 'new2', 'hello', 1.414, 'z']\n"
     ]
    }
   ],
   "source": [
    "# modifying multiple items\n",
    "myList[: 2] = ['new1', 'new2']\n",
    "print(myList)"
   ]
  },
  {
   "cell_type": "markdown",
   "id": "educational-thinking",
   "metadata": {},
   "source": [
    "#### Deletion in list"
   ]
  },
  {
   "cell_type": "code",
   "execution_count": 20,
   "id": "secure-cosmetic",
   "metadata": {},
   "outputs": [
    {
     "name": "stdout",
     "output_type": "stream",
     "text": [
      "['new2', 'hello', 1.414, 'z']\n"
     ]
    }
   ],
   "source": [
    "# removing the first item of the list using the del keyword\n",
    "del myList[0]\n",
    "print(myList)"
   ]
  },
  {
   "cell_type": "code",
   "execution_count": 21,
   "id": "dramatic-treasurer",
   "metadata": {},
   "outputs": [
    {
     "name": "stdout",
     "output_type": "stream",
     "text": [
      "[1.414, 'z']\n"
     ]
    }
   ],
   "source": [
    "myList = [1, 3, 'hello', 1.414, 'z']\n",
    "# removing the first three items of the list using the del keyword\n",
    "del myList[0:3]\n",
    "print(myList)"
   ]
  },
  {
   "cell_type": "code",
   "execution_count": 22,
   "id": "human-bunch",
   "metadata": {},
   "outputs": [
    {
     "ename": "NameError",
     "evalue": "name 'myList' is not defined",
     "output_type": "error",
     "traceback": [
      "\u001b[0;31m---------------------------------------------------------------------------\u001b[0m",
      "\u001b[0;31mNameError\u001b[0m                                 Traceback (most recent call last)",
      "\u001b[0;32m<ipython-input-22-c08155f0608a>\u001b[0m in \u001b[0;36m<module>\u001b[0;34m\u001b[0m\n\u001b[1;32m      4\u001b[0m \u001b[0;31m# this 'del myList' not only removes all the items, but also deletes the reference to that 'myList' object.\u001b[0m\u001b[0;34m\u001b[0m\u001b[0;34m\u001b[0m\u001b[0;34m\u001b[0m\u001b[0m\n\u001b[1;32m      5\u001b[0m \u001b[0;31m# Intepreter produces 'NameError' when we try to access that deleted list\u001b[0m\u001b[0;34m\u001b[0m\u001b[0;34m\u001b[0m\u001b[0;34m\u001b[0m\u001b[0m\n\u001b[0;32m----> 6\u001b[0;31m \u001b[0mprint\u001b[0m\u001b[0;34m(\u001b[0m\u001b[0mmyList\u001b[0m\u001b[0;34m)\u001b[0m\u001b[0;34m\u001b[0m\u001b[0;34m\u001b[0m\u001b[0m\n\u001b[0m",
      "\u001b[0;31mNameError\u001b[0m: name 'myList' is not defined"
     ]
    }
   ],
   "source": [
    "myList = [1, 3, 'hello', 1.414, 'z']\n",
    "# removing the entire list\n",
    "del myList\n",
    "# this 'del myList' not only removes all the items, but also deletes the reference to that 'myList' object.\n",
    "# Intepreter produces 'NameError' when we try to access that deleted list\n",
    "print(myList)"
   ]
  },
  {
   "cell_type": "markdown",
   "id": "placed-terrorism",
   "metadata": {},
   "source": [
    "#### Insertion in list"
   ]
  },
  {
   "cell_type": "markdown",
   "id": "sustained-strength",
   "metadata": {},
   "source": [
    "There exists three methods to add an element into the list. viz.,\n",
    " 1. **list.insert (index_number, element_to_be_inserted)**\n",
    " 2. **list.append (element_to_be_inserted)**\n",
    " 3. **list.extend (iterable)**"
   ]
  },
  {
   "cell_type": "markdown",
   "id": "rubber-plant",
   "metadata": {},
   "source": [
    "##### The insert method\n",
    "The list.insert(index, element) method inserts an element at a given index and it returns None."
   ]
  },
  {
   "cell_type": "code",
   "execution_count": 23,
   "id": "relative-swift",
   "metadata": {},
   "outputs": [
    {
     "name": "stdout",
     "output_type": "stream",
     "text": [
      "['element1', 1, 3, 'hello', 1.414, 'z']\n"
     ]
    }
   ],
   "source": [
    "myList = [1, 3, 'hello', 1.414, 'z']\n",
    "# inserting an element at index 0\n",
    "myList.insert(0, 'element1')\n",
    "print(myList)"
   ]
  },
  {
   "cell_type": "code",
   "execution_count": 24,
   "id": "refined-bookmark",
   "metadata": {},
   "outputs": [
    {
     "name": "stdout",
     "output_type": "stream",
     "text": [
      "['element1', 1, 3, 'hello', 1.414, 'z', 'last_element']\n"
     ]
    }
   ],
   "source": [
    "# insert an element at the end of the list\n",
    "myList.insert(len(myList), 'last_element')\n",
    "print(myList)"
   ]
  },
  {
   "cell_type": "markdown",
   "id": "impressive-terminal",
   "metadata": {},
   "source": [
    "#### The append method\n",
    "The list.append(element) method inserts an element at the end of the list.\n",
    "\n",
    "**NOTE**:\n",
    "1. **list.append(element)** is equivalent to **list.insert(len(list), element)**."
   ]
  },
  {
   "cell_type": "code",
   "execution_count": 25,
   "id": "macro-longitude",
   "metadata": {},
   "outputs": [
    {
     "name": "stdout",
     "output_type": "stream",
     "text": [
      "[1, 3, 'hello', 1.414, 'z', 'new_element']\n"
     ]
    }
   ],
   "source": [
    "myList = [1, 3, 'hello', 1.414, 'z']\n",
    "myList.append('new_element')\n",
    "print(myList)"
   ]
  },
  {
   "cell_type": "markdown",
   "id": "national-domain",
   "metadata": {},
   "source": [
    "#### The extend method\n",
    "\n",
    "The list.extend(iterable) method inserts an iterable such as list, tuple, string, etc., to the end of the list."
   ]
  },
  {
   "cell_type": "code",
   "execution_count": 26,
   "id": "partial-monkey",
   "metadata": {},
   "outputs": [
    {
     "name": "stdout",
     "output_type": "stream",
     "text": [
      "[1, 3, 'hello', 1.414, 'z', 2, 4, 6]\n"
     ]
    }
   ],
   "source": [
    "myList = [1, 3, 'hello', 1.414, 'z']\n",
    "myList1 = [2,4,6]\n",
    "# Adding list elements to the list\n",
    "myList.extend(myList1)\n",
    "print(myList)"
   ]
  },
  {
   "cell_type": "code",
   "execution_count": 27,
   "id": "frank-sheriff",
   "metadata": {},
   "outputs": [
    {
     "name": "stdout",
     "output_type": "stream",
     "text": [
      "[1, 3, 'hello', 1.414, 'z', 1, 2]\n"
     ]
    }
   ],
   "source": [
    "myList = [1, 3, 'hello', 1.414, 'z']\n",
    "myTuple = (1,2)\n",
    "# Adding tuple elements to the list\n",
    "myList.extend(myTuple)\n",
    "print(myList)"
   ]
  },
  {
   "cell_type": "markdown",
   "id": "whole-result",
   "metadata": {},
   "source": [
    "#### Duplicate values"
   ]
  },
  {
   "cell_type": "markdown",
   "id": "spectacular-component",
   "metadata": {},
   "source": [
    "In the list it is allowed to store duplicate values."
   ]
  },
  {
   "cell_type": "code",
   "execution_count": 28,
   "id": "august-bedroom",
   "metadata": {},
   "outputs": [
    {
     "name": "stdout",
     "output_type": "stream",
     "text": [
      "[1, 2, 1, 2, 1]\n"
     ]
    }
   ],
   "source": [
    "myList = [1,2,1,2,1]\n",
    "print(myList)"
   ]
  },
  {
   "cell_type": "markdown",
   "id": "younger-somewhere",
   "metadata": {},
   "source": [
    "#### When should we use list?\n",
    "1. Lists are beneficial if we need to store a group of elements of same or different datatypes.\n",
    "2. If we have a collection of data that doesn't need random access.\n",
    "3. Since lists are mutable, we can use it when we need a collection of data items that is need to be modified frequently."
   ]
  },
  {
   "cell_type": "markdown",
   "id": "earlier-logging",
   "metadata": {},
   "source": [
    "## Dictionary"
   ]
  },
  {
   "cell_type": "markdown",
   "id": "acknowledged-anxiety",
   "metadata": {},
   "source": [
    "Dictionaries (also known as **'associative arrays'** or **'associative memories'**) are Python’s data structure which usually consists of a collection of key-value pairs with the requirement that the keys are unique. Each key-value pair resembles maping the key to its associated value. Therefore, the main operation is to store a value with some key and extracting it's corresponing value."
   ]
  },
  {
   "cell_type": "code",
   "execution_count": 29,
   "id": "sticky-terrorist",
   "metadata": {},
   "outputs": [
    {
     "name": "stdout",
     "output_type": "stream",
     "text": [
      "{1: 'one', 2: 'two', 3: 'three', 4: 'four', 5: 'five'}\n"
     ]
    }
   ],
   "source": [
    "myDict = {1: 'one', 2: 'two', 3: 'three', 4: 'four', 5: 'five' }\n",
    "print(myDict)"
   ]
  },
  {
   "cell_type": "markdown",
   "id": "adjustable-villa",
   "metadata": {},
   "source": [
    "### Creating a dictionary\n",
    "We can create a dictionaryin several ways\n",
    "* by using a comma-separated list of key: value pairs within curly braces\n",
    "* by using a dict comprehension\n",
    "* by using the type constructor, dict()"
   ]
  },
  {
   "cell_type": "code",
   "execution_count": 30,
   "id": "brutal-proceeding",
   "metadata": {},
   "outputs": [
    {
     "name": "stdout",
     "output_type": "stream",
     "text": [
      "{1: 'one', 2: 'two', 3: 'three', 4: 'four', 5: 'five'}\n"
     ]
    }
   ],
   "source": [
    "myDict = {1: 'one', 2: 'two', 3: 'three', 4: 'four', 5: 'five' } # comma-seperated key-value pairs\n",
    "print(myDict)"
   ]
  },
  {
   "cell_type": "code",
   "execution_count": 31,
   "id": "quick-mexican",
   "metadata": {},
   "outputs": [
    {
     "name": "stdout",
     "output_type": "stream",
     "text": [
      "{0: 0, 1: 2, 2: 16, 3: 54, 4: 128, 5: 250, 6: 432, 7: 686, 8: 1024, 9: 1458}\n"
     ]
    }
   ],
   "source": [
    "print({x: 2*x ** 3 for x in range(10)}) # dict comprehension"
   ]
  },
  {
   "cell_type": "code",
   "execution_count": 32,
   "id": "recognized-coral",
   "metadata": {},
   "outputs": [
    {
     "name": "stdout",
     "output_type": "stream",
     "text": [
      "{'one': 1, 'two': 2}\n"
     ]
    }
   ],
   "source": [
    "myDict1 = dict([('one', 1), ('two', 2)])\n",
    "print(myDict1)"
   ]
  },
  {
   "cell_type": "markdown",
   "id": "classical-transcript",
   "metadata": {},
   "source": [
    "### Accessing Dictionary Values\n",
    "In the case of dictionary, we depends upon the 'key'. i.e., extracting a value from the dictionary is based upon it's corresponding key. "
   ]
  },
  {
   "cell_type": "markdown",
   "id": "julian-worthy",
   "metadata": {},
   "source": [
    "We can retrieve a value from a dictionary by specifying its corresponding key in square brackets."
   ]
  },
  {
   "cell_type": "code",
   "execution_count": 33,
   "id": "sustainable-terrorist",
   "metadata": {},
   "outputs": [
    {
     "name": "stdout",
     "output_type": "stream",
     "text": [
      "one\n"
     ]
    }
   ],
   "source": [
    "myDict = {1: 'one', 2: 'two', 3: 'three', 4: 'four', 5: 'five' } \n",
    "print(myDict[1])"
   ]
  },
  {
   "cell_type": "code",
   "execution_count": 34,
   "id": "equal-illustration",
   "metadata": {},
   "outputs": [
    {
     "ename": "KeyError",
     "evalue": "6",
     "output_type": "error",
     "traceback": [
      "\u001b[0;31m---------------------------------------------------------------------------\u001b[0m",
      "\u001b[0;31mKeyError\u001b[0m                                  Traceback (most recent call last)",
      "\u001b[0;32m<ipython-input-34-8b320ba9a767>\u001b[0m in \u001b[0;36m<module>\u001b[0;34m\u001b[0m\n\u001b[1;32m      1\u001b[0m \u001b[0;31m# trying to access a key which is not present inside the dictionary\u001b[0m\u001b[0;34m\u001b[0m\u001b[0;34m\u001b[0m\u001b[0;34m\u001b[0m\u001b[0m\n\u001b[0;32m----> 2\u001b[0;31m \u001b[0mmyDict\u001b[0m\u001b[0;34m[\u001b[0m\u001b[0;36m6\u001b[0m\u001b[0;34m]\u001b[0m \u001b[0;31m# will throw a 'KeyError'\u001b[0m\u001b[0;34m\u001b[0m\u001b[0;34m\u001b[0m\u001b[0m\n\u001b[0m",
      "\u001b[0;31mKeyError\u001b[0m: 6"
     ]
    }
   ],
   "source": [
    "# trying to access a key which is not present inside the dictionary\n",
    "myDict[6] # will throw a 'KeyError'"
   ]
  },
  {
   "cell_type": "markdown",
   "id": "amateur-inspection",
   "metadata": {},
   "source": [
    "### Slicing, Indexing and Mutability in Dictionary\n",
    "\n",
    "* Dictionaries are indexed by keys. Therefore keys should be of immutable type.\n",
    "* Slicing can't be done in dictionary"
   ]
  },
  {
   "cell_type": "markdown",
   "id": "previous-cemetery",
   "metadata": {},
   "source": [
    "### Duplicate values\n",
    "In the dictionary, keys are not allowed to have duplicate elements, but two or more distinct keys can have same/similar values. "
   ]
  },
  {
   "cell_type": "markdown",
   "id": "potential-michael",
   "metadata": {},
   "source": [
    "### When should we use dictionary?\n",
    "1. Dictionaries are beneficial if we need to store elements in the form of key-value pairs of same or different datatypes.\n",
    "2. When we need a logical association between the key and the value.\n",
    "3. When we need a fast lookup for the data based on a custom key.\n"
   ]
  }
 ],
 "metadata": {
  "kernelspec": {
   "display_name": "Python 3",
   "language": "python",
   "name": "python3"
  },
  "language_info": {
   "codemirror_mode": {
    "name": "ipython",
    "version": 3
   },
   "file_extension": ".py",
   "mimetype": "text/x-python",
   "name": "python",
   "nbconvert_exporter": "python",
   "pygments_lexer": "ipython3",
   "version": "3.8.5"
  }
 },
 "nbformat": 4,
 "nbformat_minor": 5
}
